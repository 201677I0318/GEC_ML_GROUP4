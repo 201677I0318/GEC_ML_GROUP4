{
 "cells": [
  {
   "cell_type": "markdown",
   "metadata": {},
   "source": [
    "# Machine Learning Course - Level 1\n",
    "### Mentor Session 5 by Weipeng Shao\n",
    "### Objective: Simple cases for NLP and practice on PCA\n",
    "### Data of Spam Filter: https://www.kaggle.com/karthickveerakumar/spam-filter"
   ]
  },
  {
   "cell_type": "code",
   "execution_count": 1,
   "metadata": {
    "collapsed": true
   },
   "outputs": [],
   "source": [
    "import pandas as pd\n",
    "import numpy as np\n",
    "import matplotlib.pyplot as plt\n",
    "from time import time # for time cost\n",
    "%matplotlib inline"
   ]
  },
  {
   "cell_type": "code",
   "execution_count": 2,
   "metadata": {
    "collapsed": true
   },
   "outputs": [],
   "source": [
    "# # Do the following steps first in your Terminal or Command:\n",
    "# ./pip install urllib\n",
    "# ./pip install nltk\n",
    "# ./pip install bs4\n",
    "# ./pip install ??"
   ]
  },
  {
   "cell_type": "code",
   "execution_count": 3,
   "metadata": {
    "collapsed": true
   },
   "outputs": [],
   "source": [
    "# Main tool: Natural Language Toolkit\n",
    "import nltk"
   ]
  },
  {
   "cell_type": "markdown",
   "metadata": {},
   "source": [
    "## Simple Practice for Natural Language Processing"
   ]
  },
  {
   "cell_type": "code",
   "execution_count": 72,
   "metadata": {},
   "outputs": [
    {
     "name": "stdout",
     "output_type": "stream",
     "text": [
      "showing info https://raw.githubusercontent.com/nltk/nltk_data/gh-pages/index.xml\n"
     ]
    },
    {
     "data": {
      "text/plain": [
       "True"
      ]
     },
     "execution_count": 72,
     "metadata": {},
     "output_type": "execute_result"
    }
   ],
   "source": [
    "# Download the subpackages for nltk\n",
    "nltk.download()"
   ]
  },
  {
   "cell_type": "markdown",
   "metadata": {},
   "source": [
    "### Examples: Analyze Text from a Website, Tokenization, Stemming, BOW, N-Grams"
   ]
  },
  {
   "cell_type": "code",
   "execution_count": 5,
   "metadata": {
    "collapsed": true
   },
   "outputs": [],
   "source": [
    "# urllib module for accessing website data\n",
    "import urllib.request\n",
    "# Use BeautifulSoup to clean the html (remove the html labels)\n",
    "from bs4 import BeautifulSoup"
   ]
  },
  {
   "cell_type": "markdown",
   "metadata": {},
   "source": [
    "#### --check on the website we deal with: http://php.net"
   ]
  },
  {
   "cell_type": "code",
   "execution_count": 6,
   "metadata": {
    "collapsed": true
   },
   "outputs": [],
   "source": [
    "# Try to open some url\n",
    "response = urllib.request.urlopen('http://php.net/')\n",
    "# Read the content\n",
    "html = response.read()\n",
    "# Clean the text\n",
    "soup = BeautifulSoup(html,'html5lib')  # need to install 'html5lib' module (a parser)\n",
    "text = soup.get_text(strip=True)\n",
    "# Split the text into tokens\n",
    "tokens = text.split()"
   ]
  },
  {
   "cell_type": "code",
   "execution_count": 83,
   "metadata": {
    "collapsed": true
   },
   "outputs": [
    {
     "data": {
      "text/plain": [
       "['PHP:',\n",
       " 'Hypertext',\n",
       " 'PreprocessorDownloadsDocumentationGet',\n",
       " 'InvolvedHelpGetting',\n",
       " 'StartedIntroductionA',\n",
       " 'simple',\n",
       " 'tutorialLanguage',\n",
       " 'ReferenceBasic',\n",
       " 'syntaxTypesVariablesConstantsExpressionsOperatorsControl',\n",
       " 'StructuresFunctionsClasses',\n",
       " 'and',\n",
       " 'ObjectsNamespacesErrorsExceptionsGeneratorsReferences',\n",
       " 'ExplainedPredefined',\n",
       " 'VariablesPredefined',\n",
       " 'ExceptionsPredefined',\n",
       " 'Interfaces',\n",
       " 'and',\n",
       " 'ClassesContext',\n",
       " 'options',\n",
       " 'and',\n",
       " 'parametersSupported',\n",
       " 'Protocols',\n",
       " 'and',\n",
       " 'WrappersSecurityIntroductionGeneral',\n",
       " 'considerationsInstalled',\n",
       " 'as',\n",
       " 'CGI',\n",
       " 'binaryInstalled',\n",
       " 'as',\n",
       " 'an',\n",
       " 'Apache',\n",
       " 'moduleSession',\n",
       " 'SecurityFilesystem',\n",
       " 'SecurityDatabase',\n",
       " 'SecurityError',\n",
       " 'ReportingUsing',\n",
       " 'Register',\n",
       " 'GlobalsUser',\n",
       " 'Submitted',\n",
       " 'DataMagic',\n",
       " 'QuotesHiding',\n",
       " 'PHPKeeping',\n",
       " 'CurrentFeaturesHTTP',\n",
       " 'authentication',\n",
       " 'with',\n",
       " 'PHPCookiesSessionsDealing',\n",
       " 'with',\n",
       " 'XFormsHandling',\n",
       " 'file',\n",
       " 'uploadsUsing',\n",
       " 'remote',\n",
       " 'filesConnection',\n",
       " 'handlingPersistent',\n",
       " 'Database',\n",
       " 'ConnectionsSafe',\n",
       " 'ModeCommand',\n",
       " 'line',\n",
       " 'usageGarbage',\n",
       " 'CollectionDTrace',\n",
       " 'Dynamic',\n",
       " 'TracingFunction',\n",
       " 'ReferenceAffecting',\n",
       " \"PHP's\",\n",
       " 'BehaviourAudio',\n",
       " 'Formats',\n",
       " 'ManipulationAuthentication',\n",
       " 'ServicesCommand',\n",
       " 'Line',\n",
       " 'Specific',\n",
       " 'ExtensionsCompression',\n",
       " 'and',\n",
       " 'Archive',\n",
       " 'ExtensionsCredit',\n",
       " 'Card',\n",
       " 'ProcessingCryptography',\n",
       " 'ExtensionsDatabase',\n",
       " 'ExtensionsDate',\n",
       " 'and',\n",
       " 'Time',\n",
       " 'Related',\n",
       " 'ExtensionsFile',\n",
       " 'System',\n",
       " 'Related',\n",
       " 'ExtensionsHuman',\n",
       " 'Language',\n",
       " 'and',\n",
       " 'Character',\n",
       " 'Encoding',\n",
       " 'SupportImage',\n",
       " 'Processing',\n",
       " 'and',\n",
       " 'GenerationMail',\n",
       " 'Related',\n",
       " 'ExtensionsMathematical',\n",
       " 'ExtensionsNon-Text',\n",
       " 'MIME',\n",
       " 'OutputProcess',\n",
       " 'Control',\n",
       " 'ExtensionsOther',\n",
       " 'Basic',\n",
       " 'ExtensionsOther',\n",
       " 'ServicesSearch',\n",
       " 'Engine',\n",
       " 'ExtensionsServer',\n",
       " 'Specific',\n",
       " 'ExtensionsSession',\n",
       " 'ExtensionsText',\n",
       " 'ProcessingVariable',\n",
       " 'and',\n",
       " 'Type',\n",
       " 'Related',\n",
       " 'ExtensionsWeb',\n",
       " 'ServicesWindows',\n",
       " 'Only',\n",
       " 'ExtensionsXML',\n",
       " 'ManipulationGUI',\n",
       " 'ExtensionsKeyboard',\n",
       " 'Shortcuts?This',\n",
       " 'helpjNext',\n",
       " 'menu',\n",
       " 'itemkPrevious',\n",
       " 'menu',\n",
       " 'itemg',\n",
       " 'pPrevious',\n",
       " 'man',\n",
       " 'pageg',\n",
       " 'nNext',\n",
       " 'man',\n",
       " 'pageGScroll',\n",
       " 'to',\n",
       " 'bottomg',\n",
       " 'gScroll',\n",
       " 'to',\n",
       " 'topg',\n",
       " 'hGoto',\n",
       " 'homepageg',\n",
       " 'sGoto',\n",
       " 'search(current',\n",
       " 'page)/Focus',\n",
       " 'search',\n",
       " 'boxPHP',\n",
       " 'is',\n",
       " 'a',\n",
       " 'popular',\n",
       " 'general-purpose',\n",
       " 'scripting',\n",
       " 'language',\n",
       " 'that',\n",
       " 'is',\n",
       " 'especially',\n",
       " 'suited',\n",
       " 'to',\n",
       " 'web',\n",
       " 'development.Fast,',\n",
       " 'flexible',\n",
       " 'and',\n",
       " 'pragmatic,',\n",
       " 'PHP',\n",
       " 'powers',\n",
       " 'everything',\n",
       " 'from',\n",
       " 'your',\n",
       " 'blog',\n",
       " 'to',\n",
       " 'the',\n",
       " 'most',\n",
       " 'popular',\n",
       " 'websites',\n",
       " 'in',\n",
       " 'the',\n",
       " 'world.Download5.6.37·Release',\n",
       " 'Notes·Upgrading7.0.31·Release',\n",
       " 'Notes·Upgrading7.1.20·Release',\n",
       " 'Notes·Upgrading7.2.8·Release',\n",
       " 'Notes·Upgrading02',\n",
       " 'Aug',\n",
       " '2018PHP',\n",
       " '7.3.0.beta1',\n",
       " 'ReleasedThe',\n",
       " 'PHP',\n",
       " 'team',\n",
       " 'is',\n",
       " 'glad',\n",
       " 'to',\n",
       " 'announce',\n",
       " 'the',\n",
       " 'release',\n",
       " 'of',\n",
       " 'the',\n",
       " 'fifth',\n",
       " 'PHP',\n",
       " '7.3.0',\n",
       " 'version,',\n",
       " 'PHP',\n",
       " '7.3.0beta1.',\n",
       " 'The',\n",
       " 'rough',\n",
       " 'outline',\n",
       " 'of',\n",
       " 'the',\n",
       " 'PHP',\n",
       " '7.3',\n",
       " 'release',\n",
       " 'cycle',\n",
       " 'is',\n",
       " 'specified',\n",
       " 'in',\n",
       " 'thePHP',\n",
       " 'Wiki.For',\n",
       " 'source',\n",
       " 'downloads',\n",
       " 'of',\n",
       " 'PHP',\n",
       " '7.3.0beta1',\n",
       " 'please',\n",
       " 'visit',\n",
       " 'thedownload',\n",
       " 'page.',\n",
       " 'Windows',\n",
       " 'sources',\n",
       " 'and',\n",
       " 'binaries',\n",
       " 'can',\n",
       " 'be',\n",
       " 'found',\n",
       " 'onwindows.php.net/qa/.Please',\n",
       " 'carefully',\n",
       " 'test',\n",
       " 'this',\n",
       " 'version',\n",
       " 'and',\n",
       " 'report',\n",
       " 'any',\n",
       " 'issues',\n",
       " 'found',\n",
       " 'in',\n",
       " 'thebug',\n",
       " 'reporting',\n",
       " 'system.THIS',\n",
       " 'IS',\n",
       " 'A',\n",
       " 'DEVELOPMENT',\n",
       " 'PREVIEW',\n",
       " '-',\n",
       " 'DO',\n",
       " 'NOT',\n",
       " 'USE',\n",
       " 'IT',\n",
       " 'IN',\n",
       " 'PRODUCTION!For',\n",
       " 'more',\n",
       " 'information',\n",
       " 'on',\n",
       " 'the',\n",
       " 'new',\n",
       " 'features',\n",
       " 'and',\n",
       " 'other',\n",
       " 'changes,',\n",
       " 'you',\n",
       " 'can',\n",
       " 'read',\n",
       " 'theNEWSfile,',\n",
       " 'or',\n",
       " 'theUPGRADINGfile',\n",
       " 'for',\n",
       " 'a',\n",
       " 'complete',\n",
       " 'list',\n",
       " 'of',\n",
       " 'upgrading',\n",
       " 'notes.',\n",
       " 'These',\n",
       " 'files',\n",
       " 'can',\n",
       " 'also',\n",
       " 'be',\n",
       " 'found',\n",
       " 'in',\n",
       " 'the',\n",
       " 'release',\n",
       " 'archive.The',\n",
       " 'next',\n",
       " 'release',\n",
       " 'would',\n",
       " 'be',\n",
       " 'Beta',\n",
       " '2,',\n",
       " 'planned',\n",
       " 'for',\n",
       " 'August',\n",
       " '16th.The',\n",
       " 'signatures',\n",
       " 'for',\n",
       " 'the',\n",
       " 'release',\n",
       " 'can',\n",
       " 'be',\n",
       " 'found',\n",
       " 'inthe',\n",
       " 'manifestor',\n",
       " 'onthe',\n",
       " 'QA',\n",
       " 'site.Thank',\n",
       " 'you',\n",
       " 'for',\n",
       " 'helping',\n",
       " 'us',\n",
       " 'make',\n",
       " 'PHP',\n",
       " 'better.20',\n",
       " 'Jul',\n",
       " '2018PHP',\n",
       " '7.1.20',\n",
       " 'ReleasedThe',\n",
       " 'PHP',\n",
       " 'development',\n",
       " 'team',\n",
       " 'announces',\n",
       " 'the',\n",
       " 'immediate',\n",
       " 'availability',\n",
       " 'of',\n",
       " 'PHP',\n",
       " '7.1.20.',\n",
       " 'This',\n",
       " 'is',\n",
       " 'a',\n",
       " 'security',\n",
       " 'release.',\n",
       " 'Several',\n",
       " 'security',\n",
       " 'bugs',\n",
       " 'have',\n",
       " 'been',\n",
       " 'fixed',\n",
       " 'in',\n",
       " 'this',\n",
       " 'release.',\n",
       " 'All',\n",
       " 'PHP',\n",
       " '7.1',\n",
       " 'users',\n",
       " 'are',\n",
       " 'encouraged',\n",
       " 'to',\n",
       " 'upgrade',\n",
       " 'to',\n",
       " 'this',\n",
       " 'version.For',\n",
       " 'source',\n",
       " 'downloads',\n",
       " 'of',\n",
       " 'PHP',\n",
       " '7.1.20',\n",
       " 'please',\n",
       " 'visit',\n",
       " 'ourdownloads',\n",
       " 'page,',\n",
       " 'Windows',\n",
       " 'source',\n",
       " 'and',\n",
       " 'binaries',\n",
       " 'can',\n",
       " 'be',\n",
       " 'found',\n",
       " 'onwindows.php.net/download/.',\n",
       " 'The',\n",
       " 'list',\n",
       " 'of',\n",
       " 'changes',\n",
       " 'is',\n",
       " 'recorded',\n",
       " 'in',\n",
       " 'theChangeLog.20',\n",
       " 'Jul',\n",
       " '2018PHP',\n",
       " '5.6.37',\n",
       " 'ReleasedThe',\n",
       " 'PHP',\n",
       " 'development',\n",
       " 'team',\n",
       " 'announces',\n",
       " 'the',\n",
       " 'immediate',\n",
       " 'availability',\n",
       " 'of',\n",
       " 'PHP',\n",
       " '5.6.37.',\n",
       " 'This',\n",
       " 'is',\n",
       " 'a',\n",
       " 'security',\n",
       " 'release.',\n",
       " 'Several',\n",
       " 'security',\n",
       " 'bugs',\n",
       " 'have',\n",
       " 'been',\n",
       " 'fixed',\n",
       " 'in',\n",
       " 'this',\n",
       " 'release.',\n",
       " 'All',\n",
       " 'PHP',\n",
       " '5.6',\n",
       " 'users',\n",
       " 'are',\n",
       " 'encouraged',\n",
       " 'to',\n",
       " 'upgrade',\n",
       " 'to',\n",
       " 'this',\n",
       " 'version.For',\n",
       " 'source',\n",
       " 'downloads',\n",
       " 'of',\n",
       " 'PHP',\n",
       " '5.6.37',\n",
       " 'please',\n",
       " 'visit',\n",
       " 'ourdownloads',\n",
       " 'page,',\n",
       " 'Windows',\n",
       " 'source',\n",
       " 'and',\n",
       " 'binaries',\n",
       " 'can',\n",
       " 'be',\n",
       " 'found',\n",
       " 'onwindows.php.net/download/.',\n",
       " 'The',\n",
       " 'list',\n",
       " 'of',\n",
       " 'changes',\n",
       " 'is',\n",
       " 'recorded',\n",
       " 'in',\n",
       " 'theChangeLog.19',\n",
       " 'Jul',\n",
       " '2018PHP',\n",
       " '7.0.31',\n",
       " 'ReleasedThe',\n",
       " 'PHP',\n",
       " 'development',\n",
       " 'team',\n",
       " 'announces',\n",
       " 'the',\n",
       " 'immediate',\n",
       " 'availability',\n",
       " 'of',\n",
       " 'PHP',\n",
       " '7.0.31.',\n",
       " 'This',\n",
       " 'is',\n",
       " 'a',\n",
       " 'security',\n",
       " 'release.',\n",
       " 'Several',\n",
       " 'security',\n",
       " 'bugs',\n",
       " 'have',\n",
       " 'been',\n",
       " 'fixed',\n",
       " 'in',\n",
       " 'this',\n",
       " 'release.',\n",
       " 'All',\n",
       " 'PHP',\n",
       " '7.0',\n",
       " 'users',\n",
       " 'are',\n",
       " 'encouraged',\n",
       " 'to',\n",
       " 'upgrade',\n",
       " 'to',\n",
       " 'this',\n",
       " 'version.For',\n",
       " 'source',\n",
       " 'downloads',\n",
       " 'of',\n",
       " 'PHP',\n",
       " '7.0.31',\n",
       " 'please',\n",
       " 'visit',\n",
       " 'ourdownloads',\n",
       " 'page,',\n",
       " 'Windows',\n",
       " 'source',\n",
       " 'and',\n",
       " 'binaries',\n",
       " 'can',\n",
       " 'be',\n",
       " 'found',\n",
       " 'onwindows.php.net/download/.',\n",
       " 'The',\n",
       " 'list',\n",
       " 'of',\n",
       " 'changes',\n",
       " 'is',\n",
       " 'recorded',\n",
       " 'in',\n",
       " 'theChangeLog.19',\n",
       " 'Jul',\n",
       " '2018PHP',\n",
       " '7.2.8',\n",
       " 'ReleasedThe',\n",
       " 'PHP',\n",
       " 'development',\n",
       " 'team',\n",
       " 'announces',\n",
       " 'the',\n",
       " 'immediate',\n",
       " 'availability',\n",
       " 'of',\n",
       " 'PHP',\n",
       " '7.2.8.',\n",
       " 'This',\n",
       " 'is',\n",
       " 'a',\n",
       " 'security',\n",
       " 'release',\n",
       " 'which',\n",
       " 'also',\n",
       " 'contains',\n",
       " 'several',\n",
       " 'minor',\n",
       " 'bug',\n",
       " 'fixes.All',\n",
       " 'PHP',\n",
       " '7.2',\n",
       " 'users',\n",
       " 'are',\n",
       " 'encouraged',\n",
       " 'to',\n",
       " 'upgrade',\n",
       " 'to',\n",
       " 'this',\n",
       " 'version.For',\n",
       " 'source',\n",
       " 'downloads',\n",
       " 'of',\n",
       " 'PHP',\n",
       " '7.2.8',\n",
       " 'please',\n",
       " 'visit',\n",
       " 'ourdownloads',\n",
       " 'page,',\n",
       " 'Windows',\n",
       " 'source',\n",
       " 'and',\n",
       " 'binaries',\n",
       " 'can',\n",
       " 'be',\n",
       " 'found',\n",
       " 'onwindows.php.net/download/.',\n",
       " 'The',\n",
       " 'list',\n",
       " 'of',\n",
       " 'changes',\n",
       " 'is',\n",
       " 'recorded',\n",
       " 'in',\n",
       " 'theChangeLog.19',\n",
       " 'Jul',\n",
       " '2018PHP',\n",
       " '7.3.0alpha4',\n",
       " 'ReleasedThe',\n",
       " 'PHP',\n",
       " 'team',\n",
       " 'is',\n",
       " 'glad',\n",
       " 'to',\n",
       " 'announce',\n",
       " 'the',\n",
       " 'release',\n",
       " 'of',\n",
       " 'the',\n",
       " 'fourth',\n",
       " 'PHP',\n",
       " '7.3.0',\n",
       " 'version,',\n",
       " 'PHP',\n",
       " '7.3.0alpha4.',\n",
       " 'The',\n",
       " 'rough',\n",
       " 'outline',\n",
       " 'of',\n",
       " 'the',\n",
       " 'PHP',\n",
       " '7.3',\n",
       " 'release',\n",
       " 'cycle',\n",
       " 'is',\n",
       " 'specified',\n",
       " 'in',\n",
       " 'thePHP',\n",
       " 'Wiki.For',\n",
       " 'source',\n",
       " 'downloads',\n",
       " 'of',\n",
       " 'PHP',\n",
       " '7.3.0alpha4',\n",
       " 'please',\n",
       " 'visit',\n",
       " 'thedownload',\n",
       " 'page.',\n",
       " 'Windows',\n",
       " 'sources',\n",
       " 'and',\n",
       " 'binaries',\n",
       " 'can',\n",
       " 'be',\n",
       " 'found',\n",
       " 'onwindows.php.net/qa/.Please',\n",
       " 'carefully',\n",
       " 'test',\n",
       " 'this',\n",
       " 'version',\n",
       " 'and',\n",
       " 'report',\n",
       " 'any',\n",
       " 'issues',\n",
       " 'found',\n",
       " 'in',\n",
       " 'thebug',\n",
       " 'reporting',\n",
       " 'system.THIS',\n",
       " 'IS',\n",
       " 'A',\n",
       " 'DEVELOPMENT',\n",
       " 'PREVIEW',\n",
       " '-',\n",
       " 'DO',\n",
       " 'NOT',\n",
       " 'USE',\n",
       " 'IT',\n",
       " 'IN',\n",
       " 'PRODUCTION!For',\n",
       " 'more',\n",
       " 'information',\n",
       " 'on',\n",
       " 'the',\n",
       " 'new',\n",
       " 'features',\n",
       " 'and',\n",
       " 'other',\n",
       " 'changes,',\n",
       " 'you',\n",
       " 'can',\n",
       " 'read',\n",
       " 'theNEWSfile,',\n",
       " 'or',\n",
       " 'theUPGRADINGfile',\n",
       " 'for',\n",
       " 'a',\n",
       " 'complete',\n",
       " 'list',\n",
       " 'of',\n",
       " 'upgrading',\n",
       " 'notes.',\n",
       " 'These',\n",
       " 'files',\n",
       " 'can',\n",
       " 'also',\n",
       " 'be',\n",
       " 'found',\n",
       " 'in',\n",
       " 'the',\n",
       " 'release',\n",
       " 'archive.The',\n",
       " 'next',\n",
       " 'release',\n",
       " 'would',\n",
       " 'be',\n",
       " 'Beta',\n",
       " '1,',\n",
       " 'planned',\n",
       " 'for',\n",
       " 'August',\n",
       " '2nd.The',\n",
       " 'signatures',\n",
       " 'for',\n",
       " 'the',\n",
       " 'release',\n",
       " 'can',\n",
       " 'be',\n",
       " 'found',\n",
       " 'inthe',\n",
       " 'manifestor',\n",
       " 'onthe',\n",
       " 'QA',\n",
       " 'site.Thank',\n",
       " 'you',\n",
       " 'for',\n",
       " 'helping',\n",
       " 'us',\n",
       " 'make',\n",
       " 'PHP',\n",
       " 'better.05',\n",
       " 'Jul',\n",
       " '2018PHP',\n",
       " '7.3.0',\n",
       " 'alpha',\n",
       " '3',\n",
       " 'ReleasedThe',\n",
       " 'PHP',\n",
       " 'team',\n",
       " 'is',\n",
       " 'glad',\n",
       " 'to',\n",
       " 'announce',\n",
       " 'the',\n",
       " 'release',\n",
       " 'of',\n",
       " 'the',\n",
       " 'third',\n",
       " 'PHP',\n",
       " '7.3.0',\n",
       " 'version,',\n",
       " 'PHP',\n",
       " '7.3.0',\n",
       " 'Alpha',\n",
       " '3.',\n",
       " 'The',\n",
       " 'rough',\n",
       " 'outline',\n",
       " 'of',\n",
       " 'the',\n",
       " 'PHP',\n",
       " '7.3',\n",
       " 'release',\n",
       " 'cycle',\n",
       " 'is',\n",
       " 'specified',\n",
       " 'in',\n",
       " 'thePHP',\n",
       " 'Wiki.For',\n",
       " 'source',\n",
       " 'downloads',\n",
       " 'of',\n",
       " 'PHP',\n",
       " '7.3.0',\n",
       " 'Alpha',\n",
       " '3',\n",
       " 'please',\n",
       " 'visit',\n",
       " 'thedownload',\n",
       " 'page.',\n",
       " 'Windows',\n",
       " 'sources',\n",
       " 'and',\n",
       " 'binaries',\n",
       " 'can',\n",
       " 'be',\n",
       " 'found',\n",
       " 'onwindows.php.net/qa/.Please',\n",
       " 'carefully',\n",
       " 'test',\n",
       " 'this',\n",
       " 'version',\n",
       " 'and',\n",
       " 'report',\n",
       " 'any',\n",
       " 'issues',\n",
       " 'found',\n",
       " 'in',\n",
       " 'thebug',\n",
       " 'reporting',\n",
       " 'system.THIS',\n",
       " 'IS',\n",
       " 'A',\n",
       " 'DEVELOPMENT',\n",
       " 'PREVIEW',\n",
       " '-',\n",
       " 'DO',\n",
       " 'NOT',\n",
       " 'USE',\n",
       " 'IT',\n",
       " 'IN',\n",
       " 'PRODUCTION!For',\n",
       " 'more',\n",
       " 'information',\n",
       " 'on',\n",
       " 'the',\n",
       " 'new',\n",
       " 'features',\n",
       " 'and',\n",
       " 'other',\n",
       " 'changes,',\n",
       " 'you',\n",
       " 'can',\n",
       " 'read',\n",
       " 'theNEWSfile,',\n",
       " 'or',\n",
       " 'theUPGRADINGfile',\n",
       " 'for',\n",
       " 'a',\n",
       " 'complete',\n",
       " 'list',\n",
       " 'of',\n",
       " 'upgrading',\n",
       " 'notes.',\n",
       " 'These',\n",
       " 'files',\n",
       " 'can',\n",
       " 'also',\n",
       " 'be',\n",
       " 'found',\n",
       " 'in',\n",
       " 'the',\n",
       " 'release',\n",
       " 'archive.The',\n",
       " 'next',\n",
       " 'release',\n",
       " 'would',\n",
       " 'be',\n",
       " 'Beta',\n",
       " '1,',\n",
       " 'planned',\n",
       " 'for',\n",
       " 'July',\n",
       " '19th.The',\n",
       " 'signatures',\n",
       " 'for',\n",
       " 'the',\n",
       " 'release',\n",
       " 'can',\n",
       " 'be',\n",
       " 'found',\n",
       " 'inthe',\n",
       " 'manifestor',\n",
       " 'onthe',\n",
       " 'QA',\n",
       " 'site.Thank',\n",
       " 'you',\n",
       " 'for',\n",
       " 'helping',\n",
       " 'us',\n",
       " 'make',\n",
       " 'PHP',\n",
       " 'better.25',\n",
       " 'Jun',\n",
       " '2018PHP',\n",
       " '7.1.19',\n",
       " 'ReleasedThe',\n",
       " 'PHP',\n",
       " 'development',\n",
       " 'team',\n",
       " 'announces',\n",
       " 'the',\n",
       " 'immediate',\n",
       " 'availability',\n",
       " 'of',\n",
       " 'PHP',\n",
       " '7.1.19.',\n",
       " 'All',\n",
       " 'PHP',\n",
       " '7.1',\n",
       " 'users',\n",
       " 'are',\n",
       " 'encouraged',\n",
       " 'to',\n",
       " 'upgrade',\n",
       " 'to',\n",
       " 'this',\n",
       " 'version.For',\n",
       " 'source',\n",
       " 'downloads',\n",
       " 'of',\n",
       " 'PHP',\n",
       " '7.1.19',\n",
       " 'please',\n",
       " 'visit',\n",
       " 'ourdownloads',\n",
       " 'page,',\n",
       " 'Windows',\n",
       " 'source',\n",
       " 'and',\n",
       " 'binaries',\n",
       " 'can',\n",
       " 'be',\n",
       " 'found',\n",
       " 'onwindows.php.net/download/.',\n",
       " 'The',\n",
       " 'list',\n",
       " 'of',\n",
       " 'changes',\n",
       " 'is',\n",
       " 'recorded',\n",
       " 'in',\n",
       " 'theChangeLog.21',\n",
       " 'Jun',\n",
       " '2018PHP',\n",
       " '7.2.7',\n",
       " 'ReleasedThe',\n",
       " 'PHP',\n",
       " 'development',\n",
       " 'team',\n",
       " 'announces',\n",
       " 'the',\n",
       " 'immediate',\n",
       " 'availability',\n",
       " 'of',\n",
       " 'PHP',\n",
       " '7.2.7.',\n",
       " 'This',\n",
       " 'is',\n",
       " 'a',\n",
       " 'primarily',\n",
       " 'a',\n",
       " 'bugfix',\n",
       " 'release',\n",
       " 'which',\n",
       " 'includes',\n",
       " 'a',\n",
       " 'segfault',\n",
       " 'fix',\n",
       " 'for',\n",
       " 'opcache.PHP',\n",
       " '7.2',\n",
       " 'users',\n",
       " 'are',\n",
       " 'encouraged',\n",
       " 'to',\n",
       " 'upgrade',\n",
       " 'to',\n",
       " 'this',\n",
       " 'version.For',\n",
       " 'source',\n",
       " 'downloads',\n",
       " 'of',\n",
       " 'PHP',\n",
       " '7.2.7',\n",
       " 'please',\n",
       " 'visit',\n",
       " 'ourdownloads',\n",
       " 'page,',\n",
       " 'Windows',\n",
       " 'source',\n",
       " 'and',\n",
       " 'binaries',\n",
       " 'can',\n",
       " 'be',\n",
       " 'found',\n",
       " 'onwindows.php.net/download/.',\n",
       " 'The',\n",
       " 'list',\n",
       " 'of',\n",
       " 'changes',\n",
       " 'is',\n",
       " 'recorded',\n",
       " 'in',\n",
       " 'theChangeLog.21',\n",
       " 'Jun',\n",
       " '2018PHP',\n",
       " '7.3.0',\n",
       " 'alpha',\n",
       " '2',\n",
       " 'ReleasedThe',\n",
       " 'PHP',\n",
       " 'team',\n",
       " 'is',\n",
       " 'glad',\n",
       " 'to',\n",
       " 'announce',\n",
       " 'the',\n",
       " 'release',\n",
       " 'of',\n",
       " 'the',\n",
       " 'second',\n",
       " 'PHP',\n",
       " '7.3.0',\n",
       " 'version,',\n",
       " 'PHP',\n",
       " '7.3.0',\n",
       " 'Alpha',\n",
       " '2.',\n",
       " 'The',\n",
       " 'rough',\n",
       " 'outline',\n",
       " 'of',\n",
       " 'the',\n",
       " 'PHP',\n",
       " '7.3',\n",
       " 'release',\n",
       " 'cycle',\n",
       " 'is',\n",
       " 'specified',\n",
       " 'in',\n",
       " 'thePHP',\n",
       " 'Wiki.For',\n",
       " 'source',\n",
       " 'downloads',\n",
       " 'of',\n",
       " 'PHP',\n",
       " '7.3.0',\n",
       " 'Alpha',\n",
       " '2',\n",
       " 'please',\n",
       " ...]"
      ]
     },
     "execution_count": 83,
     "metadata": {},
     "output_type": "execute_result"
    }
   ],
   "source": [
    "tokens"
   ]
  },
  {
   "cell_type": "code",
   "execution_count": 7,
   "metadata": {},
   "outputs": [
    {
     "data": {
      "text/plain": [
       "2018"
      ]
     },
     "execution_count": 7,
     "metadata": {},
     "output_type": "execute_result"
    }
   ],
   "source": [
    "len(tokens)"
   ]
  },
  {
   "cell_type": "markdown",
   "metadata": {},
   "source": [
    "#### Text Frequency"
   ]
  },
  {
   "cell_type": "code",
   "execution_count": 86,
   "metadata": {
    "collapsed": true
   },
   "outputs": [],
   "source": [
    "freq = nltk.FreqDist(tokens)"
   ]
  },
  {
   "cell_type": "code",
   "execution_count": 95,
   "metadata": {},
   "outputs": [
    {
     "data": {
      "image/png": "[encoded data removed]",
      "text/plain": [
       "<matplotlib.figure.Figure at 0x1a4bc8fc88>"
      ]
     },
     "metadata": {},
     "output_type": "display_data"
    }
   ],
   "source": [
    "freq.plot(20,cumulative=False)"
   ]
  },
  {
   "cell_type": "code",
   "execution_count": 96,
   "metadata": {
    "scrolled": true
   },
   "outputs": [],
   "source": [
    "# Stopwords\n",
    "nltk.corpus.stopwords.words('english')  # the list of stopwords in English"
   ]
  },
  {
   "cell_type": "code",
   "execution_count": 93,
   "metadata": {
    "collapsed": true
   },
   "outputs": [],
   "source": [
    "# Delete the stopwords\n",
    "tokens_cleaned = list()\n",
    "\n",
    "sr = nltk.corpus.stopwords.words('english')\n",
    "\n",
    "for token in tokens:\n",
    "    if token not in sr:\n",
    "        tokens_cleaned.append(token)\n",
    "        \n",
    "# [token for token in tokens if not token in sr]   # another way to perform this"
   ]
  },
  {
   "cell_type": "code",
   "execution_count": 12,
   "metadata": {},
   "outputs": [
    {
     "data": {
      "text/plain": [
       "1455"
      ]
     },
     "execution_count": 12,
     "metadata": {},
     "output_type": "execute_result"
    }
   ],
   "source": [
    "len(tokens_cleaned)"
   ]
  },
  {
   "cell_type": "code",
   "execution_count": 13,
   "metadata": {},
   "outputs": [],
   "source": [
    "freq_cleaned = nltk.FreqDist(tokens_cleaned)"
   ]
  },
  {
   "cell_type": "code",
   "execution_count": 14,
   "metadata": {},
   "outputs": [
    {
     "data": {
      "image/png": "[encoded data removed]",
      "text/plain": [
       "<matplotlib.figure.Figure at 0x1a3c8815c0>"
      ]
     },
     "metadata": {},
     "output_type": "display_data"
    }
   ],
   "source": [
    "freq_cleaned.plot(20,cumulative=False)"
   ]
  },
  {
   "cell_type": "markdown",
   "metadata": {},
   "source": [
    "#### Tokenization"
   ]
  },
  {
   "cell_type": "code",
   "execution_count": 15,
   "metadata": {
    "collapsed": true
   },
   "outputs": [],
   "source": [
    "# For sentence: sent_tokenize\n",
    "# For words: word_tokenize"
   ]
  },
  {
   "cell_type": "code",
   "execution_count": 16,
   "metadata": {},
   "outputs": [
    {
     "data": {
      "text/plain": [
       "['Hello Adam, how are you?',\n",
       " 'I hope everything is going well.',\n",
       " 'Today is a good day, see you dude.']"
      ]
     },
     "execution_count": 16,
     "metadata": {},
     "output_type": "execute_result"
    }
   ],
   "source": [
    "# e.g.\n",
    "mytext = \"Hello Adam, how are you? I hope everything is going well. Today is a good day, see you dude.\"\n",
    "nltk.tokenize.sent_tokenize(mytext)"
   ]
  },
  {
   "cell_type": "code",
   "execution_count": 17,
   "metadata": {},
   "outputs": [
    {
     "data": {
      "text/plain": [
       "['This is Dr. Wang.',\n",
       " 'Hello Mr. Adam, how are you?',\n",
       " 'I hope everything is going well.',\n",
       " 'Today is a good day, see you dude.']"
      ]
     },
     "execution_count": 17,
     "metadata": {},
     "output_type": "execute_result"
    }
   ],
   "source": [
    "# Punctuation marks in special cases (e.g. abbreviations) are ignored in tokenization\n",
    "mytext2 = \"This is Dr. Wang. Hello Mr. Adam, how are you? I hope everything is going well. Today is a good day, see you dude.\"\n",
    "nltk.tokenize.sent_tokenize(mytext2)"
   ]
  },
  {
   "cell_type": "code",
   "execution_count": 97,
   "metadata": {},
   "outputs": [],
   "source": [
    "# nltk.tokenize.word_tokenize(mytext2)"
   ]
  },
  {
   "cell_type": "code",
   "execution_count": 98,
   "metadata": {},
   "outputs": [],
   "source": [
    "# Do not ignore special punctuation marks\n",
    "# nltk.tokenize.wordpunct_tokenize(mytext2)"
   ]
  },
  {
   "cell_type": "code",
   "execution_count": 20,
   "metadata": {},
   "outputs": [],
   "source": [
    "# # Tokenization on the web text\n",
    "tokens_nltk = nltk.tokenize.word_tokenize(text)\n",
    "# Delete the stopwords\n",
    "tokens_nltk_cleaned = list()\n",
    "\n",
    "sr = nltk.corpus.stopwords.words('english')\n",
    "\n",
    "for token in tokens_nltk:\n",
    "    if token not in sr:\n",
    "        tokens_nltk_cleaned.append(token)"
   ]
  },
  {
   "cell_type": "code",
   "execution_count": 21,
   "metadata": {},
   "outputs": [
    {
     "data": {
      "text/plain": [
       "1589"
      ]
     },
     "execution_count": 21,
     "metadata": {},
     "output_type": "execute_result"
    }
   ],
   "source": [
    "len(tokens_nltk_cleaned)"
   ]
  },
  {
   "cell_type": "code",
   "execution_count": 22,
   "metadata": {
    "scrolled": true
   },
   "outputs": [
    {
     "data": {
      "image/png": "[encoded data removed]",
      "text/plain": [
       "<matplotlib.figure.Figure at 0x1a3c87f5f8>"
      ]
     },
     "metadata": {},
     "output_type": "display_data"
    }
   ],
   "source": [
    "freq_nltk = nltk.FreqDist(tokens_nltk_cleaned)\n",
    "freq_nltk.plot(20,cumulative=False)"
   ]
  },
  {
   "cell_type": "code",
   "execution_count": 23,
   "metadata": {
    "collapsed": true
   },
   "outputs": [],
   "source": [
    "punctuations = [',','.',':',';','?','(',')','[',']','&','!','*','@','#','$','%','{','}']"
   ]
  },
  {
   "cell_type": "code",
   "execution_count": 24,
   "metadata": {},
   "outputs": [],
   "source": [
    "tokens_nltk_cleaned_nopunc = [word for word in tokens_nltk_cleaned if not word in punctuations]"
   ]
  },
  {
   "cell_type": "code",
   "execution_count": 25,
   "metadata": {},
   "outputs": [
    {
     "data": {
      "text/plain": [
       "1468"
      ]
     },
     "execution_count": 25,
     "metadata": {},
     "output_type": "execute_result"
    }
   ],
   "source": [
    "len(tokens_nltk_cleaned_nopunc)"
   ]
  },
  {
   "cell_type": "code",
   "execution_count": 26,
   "metadata": {},
   "outputs": [
    {
     "data": {
      "image/png": "[encoded data removed]",
      "text/plain": [
       "<matplotlib.figure.Figure at 0x1a3cd58dd8>"
      ]
     },
     "metadata": {},
     "output_type": "display_data"
    }
   ],
   "source": [
    "freq_nltk_nopunc = nltk.FreqDist(tokens_nltk_cleaned_nopunc)\n",
    "freq_nltk_nopunc.plot(20,cumulative=False)"
   ]
  },
  {
   "cell_type": "markdown",
   "metadata": {},
   "source": [
    "#### Stemming"
   ]
  },
  {
   "cell_type": "code",
   "execution_count": 27,
   "metadata": {
    "collapsed": true
   },
   "outputs": [],
   "source": [
    "stemmer = nltk.stem.PorterStemmer()\n",
    "# check on nltk.stem.LancasterStemmer()"
   ]
  },
  {
   "cell_type": "code",
   "execution_count": 28,
   "metadata": {},
   "outputs": [
    {
     "data": {
      "text/plain": [
       "'work'"
      ]
     },
     "execution_count": 28,
     "metadata": {},
     "output_type": "execute_result"
    },
    {
     "data": {
      "text/plain": [
       "'univers'"
      ]
     },
     "execution_count": 28,
     "metadata": {},
     "output_type": "execute_result"
    },
    {
     "data": {
      "text/plain": [
       "'univers'"
      ]
     },
     "execution_count": 28,
     "metadata": {},
     "output_type": "execute_result"
    }
   ],
   "source": [
    "# e.g.\n",
    "stemmer.stem('working')\n",
    "stemmer.stem('university')\n",
    "stemmer.stem('universal')"
   ]
  },
  {
   "cell_type": "markdown",
   "metadata": {},
   "source": [
    "#### Lemmatizing: return accurately a word, slower than stemming"
   ]
  },
  {
   "cell_type": "code",
   "execution_count": 104,
   "metadata": {},
   "outputs": [
    {
     "data": {
      "text/plain": [
       "'working'"
      ]
     },
     "execution_count": 104,
     "metadata": {},
     "output_type": "execute_result"
    },
    {
     "data": {
      "text/plain": [
       "'increased'"
      ]
     },
     "execution_count": 104,
     "metadata": {},
     "output_type": "execute_result"
    },
    {
     "data": {
      "text/plain": [
       "'increase'"
      ]
     },
     "execution_count": 104,
     "metadata": {},
     "output_type": "execute_result"
    },
    {
     "data": {
      "text/plain": [
       "'university'"
      ]
     },
     "execution_count": 104,
     "metadata": {},
     "output_type": "execute_result"
    },
    {
     "data": {
      "text/plain": [
       "'work'"
      ]
     },
     "execution_count": 104,
     "metadata": {},
     "output_type": "execute_result"
    }
   ],
   "source": [
    "lematizer = nltk.stem.WordNetLemmatizer()\n",
    "lematizer.lemmatize('working')\n",
    "lematizer.lemmatize('increased')\n",
    "lematizer.lemmatize('increases')\n",
    "lematizer.lemmatize('universities')\n",
    "lematizer.lemmatize('works')"
   ]
  },
  {
   "cell_type": "code",
   "execution_count": 30,
   "metadata": {
    "collapsed": true
   },
   "outputs": [],
   "source": [
    "tokens_stemmed = [stemmer.stem(word) for word in tokens_nltk_cleaned_nopunc]"
   ]
  },
  {
   "cell_type": "code",
   "execution_count": 31,
   "metadata": {},
   "outputs": [
    {
     "data": {
      "image/png": "[encoded data removed]",
      "text/plain": [
       "<matplotlib.figure.Figure at 0x1a4189c588>"
      ]
     },
     "metadata": {},
     "output_type": "display_data"
    }
   ],
   "source": [
    "freq_stemmed = nltk.FreqDist(tokens_stemmed)\n",
    "freq_stemmed.plot(20,cumulative=False)"
   ]
  },
  {
   "cell_type": "code",
   "execution_count": 32,
   "metadata": {},
   "outputs": [
    {
     "data": {
      "text/plain": [
       "1468"
      ]
     },
     "execution_count": 32,
     "metadata": {},
     "output_type": "execute_result"
    },
    {
     "data": {
      "text/plain": [
       "334"
      ]
     },
     "execution_count": 32,
     "metadata": {},
     "output_type": "execute_result"
    },
    {
     "name": "stdout",
     "output_type": "stream",
     "text": [
      "# of different words before stemming: 355\n",
      "# of different words after stemming: 334\n"
     ]
    }
   ],
   "source": [
    "len(tokens_stemmed)\n",
    "freq_stemmed.B() #Return the total number of sample values (or \"bins\") that have counts greater than zero.\n",
    "print('# of different words before stemming:',len(freq_nltk_nopunc.keys()))\n",
    "print('# of different words after stemming:',len(freq_stemmed.keys()))"
   ]
  },
  {
   "cell_type": "code",
   "execution_count": 111,
   "metadata": {},
   "outputs": [],
   "source": [
    "# Bag of Words\n",
    "# freq_stemmed.items()\n",
    "keys = list(freq_stemmed.keys())\n",
    "frequencies = list(freq_stemmed.values())"
   ]
  },
  {
   "cell_type": "code",
   "execution_count": 113,
   "metadata": {},
   "outputs": [
    {
     "data": {
      "text/html": [
       "<div>\n",
       "<style scoped>\n",
       "    .dataframe tbody tr th:only-of-type {\n",
       "        vertical-align: middle;\n",
       "    }\n",
       "\n",
       "    .dataframe tbody tr th {\n",
       "        vertical-align: top;\n",
       "    }\n",
       "\n",
       "    .dataframe thead th {\n",
       "        text-align: right;\n",
       "    }\n",
       "</style>\n",
       "<table border=\"1\" class=\"dataframe\">\n",
       "  <thead>\n",
       "    <tr style=\"text-align: right;\">\n",
       "      <th></th>\n",
       "      <th>key</th>\n",
       "      <th>freq</th>\n",
       "    </tr>\n",
       "  </thead>\n",
       "  <tbody>\n",
       "    <tr>\n",
       "      <th>0</th>\n",
       "      <td>php</td>\n",
       "      <td>85</td>\n",
       "    </tr>\n",
       "    <tr>\n",
       "      <th>144</th>\n",
       "      <td>releas</td>\n",
       "      <td>66</td>\n",
       "    </tr>\n",
       "    <tr>\n",
       "      <th>164</th>\n",
       "      <td>found</td>\n",
       "      <td>36</td>\n",
       "    </tr>\n",
       "    <tr>\n",
       "      <th>157</th>\n",
       "      <td>sourc</td>\n",
       "      <td>33</td>\n",
       "    </tr>\n",
       "    <tr>\n",
       "      <th>192</th>\n",
       "      <td>list</td>\n",
       "      <td>22</td>\n",
       "    </tr>\n",
       "  </tbody>\n",
       "</table>\n",
       "</div>"
      ],
      "text/plain": [
       "        key freq\n",
       "0       php   85\n",
       "144  releas   66\n",
       "164   found   36\n",
       "157   sourc   33\n",
       "192    list   22"
      ]
     },
     "execution_count": 113,
     "metadata": {},
     "output_type": "execute_result"
    }
   ],
   "source": [
    "# pd.DataFrame(frequencies,index=keys,columns=['freq']).reset_index()\n",
    "df = pd.DataFrame([keys,frequencies]).T\n",
    "df.columns = ['key','freq']\n",
    "df.sort_values(by='freq',ascending=False)[:5]"
   ]
  },
  {
   "cell_type": "markdown",
   "metadata": {},
   "source": [
    "#### UniGram"
   ]
  },
  {
   "cell_type": "code",
   "execution_count": 35,
   "metadata": {},
   "outputs": [],
   "source": [
    "# Brown is a corpus distributed in NLTK\n",
    "from nltk.corpus import brown\n",
    "brown_tagged_sents = brown.tagged_sents(categories='news')[:2]  #tags: Part-of-speech(POS) tagging\n",
    "brown_sents = brown.sents(categories='news')[0]"
   ]
  },
  {
   "cell_type": "code",
   "execution_count": 36,
   "metadata": {},
   "outputs": [],
   "source": [
    "# brown_sents\n",
    "# brown_tagged_sents"
   ]
  },
  {
   "cell_type": "code",
   "execution_count": 37,
   "metadata": {},
   "outputs": [],
   "source": [
    "unigram_tagger = nltk.UnigramTagger(brown_tagged_sents)"
   ]
  },
  {
   "cell_type": "code",
   "execution_count": 38,
   "metadata": {},
   "outputs": [
    {
     "data": {
      "text/plain": [
       "[('help', None)]"
      ]
     },
     "execution_count": 38,
     "metadata": {},
     "output_type": "execute_result"
    },
    {
     "data": {
      "text/plain": [
       "[('The', 'AT'),\n",
       " ('Fulton', 'NP-TL'),\n",
       " ('County', 'NN-TL'),\n",
       " ('Grand', 'JJ-TL'),\n",
       " ('Jury', 'NN-TL'),\n",
       " ('said', 'VBD'),\n",
       " ('Friday', 'NR'),\n",
       " ('an', 'AT'),\n",
       " ('investigation', 'NN'),\n",
       " ('of', 'IN'),\n",
       " (\"Atlanta's\", 'NP$'),\n",
       " ('recent', 'JJ'),\n",
       " ('primary', 'NN'),\n",
       " ('election', 'NN'),\n",
       " ('produced', 'VBD'),\n",
       " ('``', '``'),\n",
       " ('no', 'AT'),\n",
       " ('evidence', 'NN'),\n",
       " (\"''\", \"''\"),\n",
       " ('that', 'CS'),\n",
       " ('any', 'DTI'),\n",
       " ('irregularities', 'NNS'),\n",
       " ('took', 'VBD'),\n",
       " ('place', 'NN'),\n",
       " ('.', '.')]"
      ]
     },
     "execution_count": 38,
     "metadata": {},
     "output_type": "execute_result"
    },
    {
     "data": {
      "text/plain": [
       "0.9852941176470589"
      ]
     },
     "execution_count": 38,
     "metadata": {},
     "output_type": "execute_result"
    }
   ],
   "source": [
    "unigram_tagger.tag(['help'])\n",
    "unigram_tagger.tag(brown_sents)\n",
    "unigram_tagger.evaluate(gold=brown_tagged_sents)\n",
    "# Score the accuracy of the tagger against the gold standard. \n",
    "# Strip the tags from the gold standard text, retag it using the tagger, then compute the accuracy score."
   ]
  },
  {
   "cell_type": "markdown",
   "metadata": {},
   "source": [
    "#### For the method of evaluation, check on: Gold Standards Evaluation"
   ]
  },
  {
   "cell_type": "markdown",
   "metadata": {},
   "source": [
    "#### Bigram"
   ]
  },
  {
   "cell_type": "code",
   "execution_count": 39,
   "metadata": {},
   "outputs": [],
   "source": [
    "# Tools to identify collocations --- words that often appear consecutively within corpora\n",
    "# For further learning, see the documents of nltk\n",
    "bm = nltk.collocations.BigramAssocMeasures()\n",
    "# finding and ranking of bigram collocations \n",
    "bf = nltk.collocations.BigramCollocationFinder.from_words(tokens_stemmed)\n",
    "bf.apply_freq_filter(3)  # apply some filter"
   ]
  },
  {
   "cell_type": "code",
   "execution_count": 131,
   "metadata": {},
   "outputs": [
    {
     "data": {
      "text/plain": [
       "[(('download', 'php'), 0.011580381471389645),\n",
       " (('pleas', 'visit'), 0.011580381471389645),\n",
       " (('sourc', 'download'), 0.011580381471389645),\n",
       " (('binari', 'found'), 0.010899182561307902),\n",
       " (('releasedth', 'php'), 0.010899182561307902),\n",
       " (('sourc', 'binari'), 0.010899182561307902),\n",
       " (('window', 'sourc'), 0.010899182561307902),\n",
       " (('releas', 'candid'), 0.009536784741144414),\n",
       " (('announc', 'immedi'), 0.008174386920980926),\n",
       " (('avail', 'php'), 0.008174386920980926)]"
      ]
     },
     "execution_count": 131,
     "metadata": {},
     "output_type": "execute_result"
    }
   ],
   "source": [
    "bf.score_ngrams(bm.raw_freq)[:10]   # Score n-gram by frequency"
   ]
  },
  {
   "cell_type": "markdown",
   "metadata": {},
   "source": [
    "#### What else? TF-IDF\n",
    "--- check this in nltk"
   ]
  },
  {
   "cell_type": "markdown",
   "metadata": {},
   "source": [
    "### Work on Some Dataset"
   ]
  },
  {
   "cell_type": "code",
   "execution_count": 141,
   "metadata": {
    "scrolled": true
   },
   "outputs": [],
   "source": [
    "# data.iloc[0]['text']\n",
    "# data['spam'].sum()"
   ]
  },
  {
   "cell_type": "code",
   "execution_count": 41,
   "metadata": {
    "collapsed": true
   },
   "outputs": [],
   "source": [
    "data = pd.read_csv('./data/emails.csv')"
   ]
  },
  {
   "cell_type": "code",
   "execution_count": 42,
   "metadata": {},
   "outputs": [],
   "source": [
    "data_fewer = data[data['spam']==1][:100].append(data[data['spam']==0][:200]).set_index('text').reset_index()"
   ]
  },
  {
   "cell_type": "code",
   "execution_count": 43,
   "metadata": {},
   "outputs": [],
   "source": [
    "data_text = data_fewer['text']"
   ]
  },
  {
   "cell_type": "code",
   "execution_count": 44,
   "metadata": {
    "scrolled": false
   },
   "outputs": [
    {
     "name": "stdout",
     "output_type": "stream",
     "text": [
      "3.4829187393188477\n"
     ]
    }
   ],
   "source": [
    "# This is intuitively but slow, try to find some better way\n",
    "t0=time()\n",
    "Bag = []\n",
    "stemmer = nltk.stem.PorterStemmer()\n",
    "\n",
    "for email in data_text[:]:\n",
    "    words = nltk.tokenize.word_tokenize(email)\n",
    "    words = [stemmer.stem(word) for word in words]\n",
    "    # delete some stopwords\n",
    "    # delete the punctuations\n",
    "    # delete some speial marks such as \"_,®ÅÍŒ\"\n",
    "#     freq = nltk.FreqDist(words)\n",
    "#     keys = freq.keys()\n",
    "#     values = freq.values()\n",
    "#     words = set{words} # avoid repetition\n",
    "    for word in words:\n",
    "        Bag.append(word)\n",
    "print(time()-t0)"
   ]
  },
  {
   "cell_type": "code",
   "execution_count": 45,
   "metadata": {},
   "outputs": [
    {
     "data": {
      "text/plain": [
       "118449"
      ]
     },
     "execution_count": 45,
     "metadata": {},
     "output_type": "execute_result"
    }
   ],
   "source": [
    "# Check the total # of words\n",
    "len(Bag)"
   ]
  },
  {
   "cell_type": "code",
   "execution_count": 144,
   "metadata": {
    "collapsed": true
   },
   "outputs": [],
   "source": [
    "fq = nltk.FreqDist(Bag)"
   ]
  },
  {
   "cell_type": "code",
   "execution_count": 146,
   "metadata": {},
   "outputs": [],
   "source": [
    "# fq.plot(20)"
   ]
  },
  {
   "cell_type": "code",
   "execution_count": 46,
   "metadata": {},
   "outputs": [
    {
     "data": {
      "text/plain": [
       "7119"
      ]
     },
     "execution_count": 46,
     "metadata": {},
     "output_type": "execute_result"
    }
   ],
   "source": [
    "# Number of different words\n",
    "Bag_set = set(Bag)\n",
    "len(Bag_set)"
   ]
  },
  {
   "cell_type": "markdown",
   "metadata": {},
   "source": [
    "#### -- Sometimes we also consider deleting the words that have low frequency."
   ]
  },
  {
   "cell_type": "code",
   "execution_count": 47,
   "metadata": {},
   "outputs": [],
   "source": [
    "# To store the bag of words\n",
    "df_Bag = pd.DataFrame(index=Bag_set,columns=np.arange(300))"
   ]
  },
  {
   "cell_type": "code",
   "execution_count": 48,
   "metadata": {},
   "outputs": [],
   "source": [
    "# df = pd.DataFrame([keys,frequencies]).T.set_index(0)"
   ]
  },
  {
   "cell_type": "code",
   "execution_count": 49,
   "metadata": {},
   "outputs": [
    {
     "name": "stdout",
     "output_type": "stream",
     "text": [
      "8.47152304649353\n"
     ]
    }
   ],
   "source": [
    "t0=time()\n",
    "for i in np.arange(300):\n",
    "    email = data_text[i]\n",
    "    words = nltk.tokenize.word_tokenize(email)\n",
    "    words = [stemmer.stem(word) for word in words]\n",
    "    freq = nltk.FreqDist(words)\n",
    "    keys = freq.keys()\n",
    "    values = freq.values()\n",
    "    \n",
    "    df = pd.DataFrame([keys,values]).T.set_index(0)\n",
    "    \n",
    "    df_Bag[i].loc[df.index] = df.values\n",
    "print(time()-t0)"
   ]
  },
  {
   "cell_type": "code",
   "execution_count": 50,
   "metadata": {},
   "outputs": [
    {
     "data": {
      "text/plain": [
       "118449.0"
      ]
     },
     "execution_count": 50,
     "metadata": {},
     "output_type": "execute_result"
    }
   ],
   "source": [
    "df_Bag.sum().sum()"
   ]
  },
  {
   "cell_type": "code",
   "execution_count": 51,
   "metadata": {
    "collapsed": true
   },
   "outputs": [],
   "source": [
    "df_Bag.fillna(0,inplace=True)"
   ]
  },
  {
   "cell_type": "code",
   "execution_count": 52,
   "metadata": {},
   "outputs": [],
   "source": [
    "X = df_Bag.T"
   ]
  },
  {
   "cell_type": "markdown",
   "metadata": {},
   "source": [
    "## Principal Component Analysis\n",
    "#### -- Fitting an $n$-dimensional ellipsoid to the data\n",
    "#### -- Maximize information in the sense of variance\n",
    "#### -- Linear dimensionality reduction"
   ]
  },
  {
   "cell_type": "markdown",
   "metadata": {},
   "source": [
    "\n",
    "### Derive from eigen value point of view\n",
    "A vector of $p$ random variables: \n",
    "$$x=(x_1,..,x_p)^T$$\n",
    "with $Var[x]=\\Sigma$, symmetric and positive semidefinite, and its eigen values $\\lambda_1\\ge\\lambda_2\\ge...\\ge\\lambda_p\\ge 0$.\n",
    "\n",
    "#### Intuitive: find a linear combination\n",
    "$$a_1^Tx=a_{11}x_1+..+a_{1p}x_p=\\sum_{j=1}^pa_{1j}x_j$$\n",
    "that has maximum variance.\n",
    "\n",
    "#### The following optimization problem:\n",
    "$$\\max_{a_1}\\quad Var[a_1^Tx]=a_1^T\\Sigma a_1$$\n",
    "$$s.t.\\quad a_1^Ta_1=1$$\n",
    "Lagrange multiplier:\n",
    "$$L=a_1^T\\Sigma a_1-\\lambda(a_1^Ta_1-1)$$\n",
    "Derivation gives (KKT condition):\n",
    "$$(\\Sigma-\\lambda I_p)a_1=0$$\n",
    "Thus $\\lambda$ should be an eigenvalue of $\\Sigma$.\n",
    "$$a_1^T\\Sigma a_1 = a_1^T\\lambda a_1=\\lambda$$\n",
    "Thus $\\lambda = \\lambda_1$, and $a_1$ be the corresponging eigenvector.\n",
    "\n",
    "#### Intuitive 2: find another linear combination\n",
    "$$a_k^Tx=a_{k1}x_1+..+a_{kp}x_p=\\sum_{j=1}^pa_{kj}x_j$$\n",
    "that has maximum variance, subject to $Cov[a_i^Tx,a_k^Tx]=0,\\ i<k$. For $k=2$, this is actually equivalent to $a_1^Ta_2=0$. \n",
    "\n",
    "#### One can derive that $Var[a_k^Tx]=\\lambda_k$, $a_k$ be the eigenvector corresponding to $\\lambda_k$, and they are orthogonal to each other because $\\Sigma$ is symmetric.\n",
    "\n",
    "In practical analysis, covariance is estimated by sample covariance (empirical covariance matrix).\n",
    "$$Cov(x,y)=\\frac{1}{n-1}\\sum_{i=1}^n(x_i-\\bar{x})(y_i-\\bar{y}).$$\n",
    "\n",
    "#### Percentage of Information:\n",
    "\n",
    "Represented by the percentage of variance $$\\frac{\\sum_{i=1}^k\\lambda_i}{\\sum_{i=1}^p\\lambda_i}$$\n",
    "\n",
    "#### Principal components:\n",
    "\n",
    "The principal components decomposition of X becomes \n",
    "$$T = ax=(a_1^T,...,a_p^T)x$$\n",
    "where $a$ represents the component axes.\n",
    "\n",
    "#### When $x$ is of zero mean:\n",
    "\n",
    "If $x$ is of zero mean and we represent it by $X=(x_1,..,x_p)=x^T$, then $\\bar{\\Sigma}=X^TX$. Write $W=a^T$, then we have \n",
    "$$X^TX = WEW^T,\\ T=XW$$\n",
    "where $E$ is the diagonal matrix of eigenvalues of $X^TX$.\n",
    "\n",
    "#### SVD (Singular Value Decomposition) point of view:\n",
    "\n",
    "$$X=U\\Sigma W^T$$\n",
    "where $\\Sigma$ is a $n\\times p$ rectangular digonal matrix of singular values of $X$ (i.e., square roots of $X^TX$). $U$ is $n\\times n$, composed of $n$ orthogonal unit vectors of length $n$. $W$ is $p\\times p$, composed of $p$ orthogonal unit vectors of length $p$.\n",
    "\n",
    "Thus $$X^TX=W\\Sigma^T\\Sigma W^T$$\n",
    "and this $W$ becomes the same one as in eigenvalue decomposition of $X^TX$. In this case we have \n",
    "$$T=XW=U\\Sigma W^TW=U\\Sigma$$"
   ]
  },
  {
   "cell_type": "code",
   "execution_count": 53,
   "metadata": {
    "collapsed": true
   },
   "outputs": [],
   "source": [
    "from sklearn.decomposition import PCA"
   ]
  },
  {
   "cell_type": "code",
   "execution_count": null,
   "metadata": {
    "collapsed": true
   },
   "outputs": [],
   "source": []
  },
  {
   "cell_type": "code",
   "execution_count": 54,
   "metadata": {},
   "outputs": [
    {
     "data": {
      "text/plain": [
       "(300, 7119)"
      ]
     },
     "execution_count": 54,
     "metadata": {},
     "output_type": "execute_result"
    }
   ],
   "source": [
    "# form of X: (n_samples,p_features)\n",
    "X = df_Bag.T.values\n",
    "X.shape"
   ]
  },
  {
   "cell_type": "code",
   "execution_count": 55,
   "metadata": {
    "collapsed": true
   },
   "outputs": [],
   "source": [
    "pca = PCA(n_components=3)"
   ]
  },
  {
   "cell_type": "code",
   "execution_count": 56,
   "metadata": {},
   "outputs": [
    {
     "data": {
      "text/plain": [
       "array([[0, 0, 0, ..., 0, 0, 0],\n",
       "       [0, 0, 0, ..., 0, 0, 0],\n",
       "       [0, 0, 0, ..., 0, 0, 0],\n",
       "       ..., \n",
       "       [0, 0, 0, ..., 0, 0, 0],\n",
       "       [0, 0, 0, ..., 0, 0, 0],\n",
       "       [0, 1, 0, ..., 0, 0, 0]])"
      ]
     },
     "execution_count": 56,
     "metadata": {},
     "output_type": "execute_result"
    }
   ],
   "source": [
    "X"
   ]
  },
  {
   "cell_type": "code",
   "execution_count": 57,
   "metadata": {},
   "outputs": [
    {
     "data": {
      "text/plain": [
       "PCA(copy=True, iterated_power='auto', n_components=3, random_state=None,\n",
       "  svd_solver='auto', tol=0.0, whiten=False)"
      ]
     },
     "execution_count": 57,
     "metadata": {},
     "output_type": "execute_result"
    }
   ],
   "source": [
    "pca.fit(X)\n",
    "X_new = pca.fit_transform(X)    # apply dimensionality reduction on X"
   ]
  },
  {
   "cell_type": "code",
   "execution_count": 58,
   "metadata": {},
   "outputs": [
    {
     "data": {
      "text/plain": [
       "array([[  4.12268981e-05,   5.77344476e-03,  -2.04320338e-05, ...,\n",
       "         -2.21417632e-05,   1.20525063e-04,   7.49269791e-04],\n",
       "       [ -6.04774919e-05,   1.88089434e-03,  -2.59282875e-05, ...,\n",
       "         -2.41102763e-05,  -1.19422603e-04,  -9.46237111e-04],\n",
       "       [  5.87176948e-05,   8.16275471e-03,  -1.29481829e-05, ...,\n",
       "         -1.21289155e-05,  -3.82122689e-05,  -2.48946357e-04]])"
      ]
     },
     "execution_count": 58,
     "metadata": {},
     "output_type": "execute_result"
    }
   ],
   "source": [
    "#### Principal axes in feature space, not the principal components! actually the 'a' random vector.\n",
    "pca.components_"
   ]
  },
  {
   "cell_type": "code",
   "execution_count": 59,
   "metadata": {},
   "outputs": [
    {
     "data": {
      "text/plain": [
       "array([ 0.49033056,  0.16908643,  0.09023837])"
      ]
     },
     "execution_count": 59,
     "metadata": {},
     "output_type": "execute_result"
    },
    {
     "data": {
      "text/plain": [
       "array([ 0.49033056,  0.659417  ,  0.74965537])"
      ]
     },
     "execution_count": 59,
     "metadata": {},
     "output_type": "execute_result"
    }
   ],
   "source": [
    "pca.explained_variance_ratio_\n",
    "pca.explained_variance_ratio_.cumsum()"
   ]
  },
  {
   "cell_type": "code",
   "execution_count": 60,
   "metadata": {},
   "outputs": [
    {
     "data": {
      "text/plain": [
       "<mpl_toolkits.mplot3d.art3d.Path3DCollection at 0x1a3c96afd0>"
      ]
     },
     "execution_count": 60,
     "metadata": {},
     "output_type": "execute_result"
    },
    {
     "data": {
      "image/png": "[encoded data removed]",
      "text/plain": [
       "<matplotlib.figure.Figure at 0x1a3c95b898>"
      ]
     },
     "metadata": {},
     "output_type": "display_data"
    }
   ],
   "source": [
    "from mpl_toolkits.mplot3d import Axes3D\n",
    "fig = plt.figure(figsize=[10,6])\n",
    "ax = fig.add_subplot(111,projection='3d')\n",
    "ax.scatter(X_new[:,0],X_new[:,1],X_new[:,2])"
   ]
  },
  {
   "cell_type": "code",
   "execution_count": 61,
   "metadata": {},
   "outputs": [
    {
     "data": {
      "text/plain": [
       "(300, 3)"
      ]
     },
     "execution_count": 61,
     "metadata": {},
     "output_type": "execute_result"
    }
   ],
   "source": [
    "X_new.shape"
   ]
  },
  {
   "cell_type": "markdown",
   "metadata": {},
   "source": [
    "#### Choose the best $k$ (ratio of variance > 0.99)"
   ]
  },
  {
   "cell_type": "code",
   "execution_count": 62,
   "metadata": {},
   "outputs": [
    {
     "data": {
      "text/plain": [
       "PCA(copy=True, iterated_power='auto', n_components=None, random_state=None,\n",
       "  svd_solver='auto', tol=0.0, whiten=False)"
      ]
     },
     "execution_count": 62,
     "metadata": {},
     "output_type": "execute_result"
    },
    {
     "data": {
      "text/plain": [
       "array([ 0.49033056,  0.659417  ,  0.74965537,  0.81895854,  0.86455031,\n",
       "        0.89072366,  0.9052452 ,  0.91436075,  0.92274129,  0.92955653,\n",
       "        0.93558958,  0.94007137,  0.94405064,  0.94766199,  0.95082805,\n",
       "        0.95316402,  0.95521016,  0.95718004,  0.95892087,  0.96043114,\n",
       "        0.96189985,  0.96331268,  0.96449288,  0.96562834,  0.96671219,\n",
       "        0.9677476 ,  0.96874481,  0.96970227,  0.97062491,  0.97147947,\n",
       "        0.9722878 ,  0.97304256,  0.97375812,  0.97445514,  0.9751049 ,\n",
       "        0.97573857,  0.97635152,  0.97695986,  0.97753464,  0.97809028,\n",
       "        0.97862108,  0.97913699,  0.97963792,  0.98012326,  0.9805839 ,\n",
       "        0.98104004,  0.98147131,  0.98187912,  0.9822712 ,  0.9826467 ,\n",
       "        0.98300906,  0.98336126,  0.98370309,  0.98403311,  0.98436056,\n",
       "        0.98468044,  0.98499225,  0.98529532,  0.98557791,  0.98585794,\n",
       "        0.98612691,  0.98639236,  0.98664771,  0.98689508,  0.98713841,\n",
       "        0.98737752,  0.98760762,  0.98782844,  0.98804519,  0.9882564 ,\n",
       "        0.98846305,  0.9886674 ,  0.98886759,  0.98905824,  0.98924353,\n",
       "        0.98942578,  0.9896062 ,  0.98978228,  0.98995342,  0.99012019,\n",
       "        0.99028501,  0.99044883,  0.99060923,  0.99076452,  0.99091696,\n",
       "        0.99106483,  0.99121098,  0.99135282,  0.99149282,  0.99163123])"
      ]
     },
     "execution_count": 62,
     "metadata": {},
     "output_type": "execute_result"
    },
    {
     "name": "stdout",
     "output_type": "stream",
     "text": [
      "The best k is: 80\n"
     ]
    }
   ],
   "source": [
    "pca_temp = PCA()\n",
    "pca_temp.fit(X)\n",
    "pca_temp.explained_variance_ratio_.cumsum()[:90]\n",
    "true_table = pca_temp.explained_variance_ratio_.cumsum()>0.99\n",
    "for i in np.arange(len(true_table)):\n",
    "    if true_table[i]==True:\n",
    "        break\n",
    "print('The best k is:', i+1)"
   ]
  },
  {
   "cell_type": "markdown",
   "metadata": {},
   "source": [
    "### Classification"
   ]
  },
  {
   "cell_type": "code",
   "execution_count": 63,
   "metadata": {},
   "outputs": [
    {
     "data": {
      "text/plain": [
       "(300, 1)"
      ]
     },
     "execution_count": 63,
     "metadata": {},
     "output_type": "execute_result"
    }
   ],
   "source": [
    "y = np.mat(data_fewer['spam'].values).T\n",
    "y.shape"
   ]
  },
  {
   "cell_type": "code",
   "execution_count": 64,
   "metadata": {},
   "outputs": [
    {
     "data": {
      "text/plain": [
       "(300, 3)"
      ]
     },
     "execution_count": 64,
     "metadata": {},
     "output_type": "execute_result"
    }
   ],
   "source": [
    "x = np.mat(X_new)\n",
    "x.shape"
   ]
  },
  {
   "cell_type": "code",
   "execution_count": 65,
   "metadata": {
    "collapsed": true
   },
   "outputs": [],
   "source": [
    "import sklearn.linear_model.logistic as sklog"
   ]
  },
  {
   "cell_type": "code",
   "execution_count": 66,
   "metadata": {},
   "outputs": [
    {
     "name": "stderr",
     "output_type": "stream",
     "text": [
      "/Users/chunse/anaconda3/lib/python3.6/site-packages/sklearn/utils/validation.py:578: DataConversionWarning: A column-vector y was passed when a 1d array was expected. Please change the shape of y to (n_samples, ), for example using ravel().\n",
      "  y = column_or_1d(y, warn=True)\n"
     ]
    },
    {
     "data": {
      "text/plain": [
       "LogisticRegression(C=1.0, class_weight=None, dual=False, fit_intercept=True,\n",
       "          intercept_scaling=1, max_iter=100, multi_class='ovr', n_jobs=1,\n",
       "          penalty='l2', random_state=None, solver='liblinear', tol=0.0001,\n",
       "          verbose=0, warm_start=False)"
      ]
     },
     "execution_count": 66,
     "metadata": {},
     "output_type": "execute_result"
    },
    {
     "data": {
      "text/plain": [
       "array([-1.24123489])"
      ]
     },
     "execution_count": 66,
     "metadata": {},
     "output_type": "execute_result"
    },
    {
     "data": {
      "text/plain": [
       "array([[-0.01638217, -0.05360403,  0.00487006]])"
      ]
     },
     "execution_count": 66,
     "metadata": {},
     "output_type": "execute_result"
    }
   ],
   "source": [
    "lgt = sklog.LogisticRegression(penalty='l2',fit_intercept=True)\n",
    "lgt.fit(x,y)\n",
    "lgt.intercept_\n",
    "lgt.coef_"
   ]
  },
  {
   "cell_type": "code",
   "execution_count": 67,
   "metadata": {
    "collapsed": true
   },
   "outputs": [],
   "source": [
    "x_old = np.mat(X)"
   ]
  },
  {
   "cell_type": "code",
   "execution_count": 68,
   "metadata": {},
   "outputs": [
    {
     "name": "stderr",
     "output_type": "stream",
     "text": [
      "/Users/chunse/anaconda3/lib/python3.6/site-packages/sklearn/utils/validation.py:578: DataConversionWarning: A column-vector y was passed when a 1d array was expected. Please change the shape of y to (n_samples, ), for example using ravel().\n",
      "  y = column_or_1d(y, warn=True)\n"
     ]
    },
    {
     "data": {
      "text/plain": [
       "LogisticRegression(C=1.0, class_weight=None, dual=False, fit_intercept=True,\n",
       "          intercept_scaling=1, max_iter=100, multi_class='ovr', n_jobs=1,\n",
       "          penalty='l2', random_state=None, solver='liblinear', tol=0.0001,\n",
       "          verbose=0, warm_start=False)"
      ]
     },
     "execution_count": 68,
     "metadata": {},
     "output_type": "execute_result"
    },
    {
     "data": {
      "text/plain": [
       "array([-0.12072529])"
      ]
     },
     "execution_count": 68,
     "metadata": {},
     "output_type": "execute_result"
    },
    {
     "data": {
      "text/plain": [
       "array([[  6.96567192e-07,  -6.69928482e-02,   6.79707502e-02, ...,\n",
       "          9.02234926e-03,  -7.94381734e-03,  -1.60163359e-03]])"
      ]
     },
     "execution_count": 68,
     "metadata": {},
     "output_type": "execute_result"
    }
   ],
   "source": [
    "lgt = sklog.LogisticRegression(penalty='l2',fit_intercept=True)\n",
    "lgt.fit(x_old,y)\n",
    "lgt.intercept_\n",
    "lgt.coef_"
   ]
  },
  {
   "cell_type": "markdown",
   "metadata": {},
   "source": [
    "#### -- Check on Probabilistic Graphical Model"
   ]
  },
  {
   "cell_type": "code",
   "execution_count": null,
   "metadata": {
    "collapsed": true
   },
   "outputs": [],
   "source": []
  }
 ],
 "metadata": {
  "kernelspec": {
   "display_name": "Python 3",
   "language": "python",
   "name": "python3"
  },
  "language_info": {
   "codemirror_mode": {
    "name": "ipython",
    "version": 3
   },
   "file_extension": ".py",
   "mimetype": "text/x-python",
   "name": "python",
   "nbconvert_exporter": "python",
   "pygments_lexer": "ipython3",
   "version": "3.6.1"
  }
 },
 "nbformat": 4,
 "nbformat_minor": 2
}
